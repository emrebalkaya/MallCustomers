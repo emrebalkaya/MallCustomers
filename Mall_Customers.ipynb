{
 "cells": [
  {
   "cell_type": "markdown",
   "id": "eb7dac5e-b05d-4f58-bf96-5b881f082b87",
   "metadata": {},
   "source": [
    "# Mall Customers Clustering"
   ]
  },
  {
   "cell_type": "code",
   "execution_count": 1,
   "id": "3df83e98-fec8-4ffe-977a-80a56ef960cd",
   "metadata": {},
   "outputs": [],
   "source": [
    "import numpy as np\n",
    "import pandas as pd \n",
    "import matplotlib.pyplot as plt\n",
    "from sklearn.preprocessing import LabelEncoder\n",
    "from sklearn.cluster import KMeans\n",
    "from sklearn.metrics import silhouette_score\n",
    "import seaborn as sns\n",
    "import warnings\n",
    "warnings.filterwarnings('ignore')"
   ]
  },
  {
   "cell_type": "code",
   "execution_count": 2,
   "id": "a3829e1d-a725-4d76-a315-2503545e93fb",
   "metadata": {},
   "outputs": [],
   "source": [
    "df = pd.read_csv('data/Mall_Customers.csv')"
   ]
  },
  {
   "cell_type": "code",
   "execution_count": 3,
   "id": "d0e4e32b-bd92-44ab-8d02-13944ce58471",
   "metadata": {},
   "outputs": [
    {
     "name": "stdout",
     "output_type": "stream",
     "text": [
      "<class 'pandas.core.frame.DataFrame'>\n",
      "RangeIndex: 200 entries, 0 to 199\n",
      "Data columns (total 5 columns):\n",
      " #   Column                  Non-Null Count  Dtype \n",
      "---  ------                  --------------  ----- \n",
      " 0   CustomerID              200 non-null    int64 \n",
      " 1   Gender                  200 non-null    object\n",
      " 2   Age                     200 non-null    int64 \n",
      " 3   Annual Income (k$)      200 non-null    int64 \n",
      " 4   Spending Score (1-100)  200 non-null    int64 \n",
      "dtypes: int64(4), object(1)\n",
      "memory usage: 7.9+ KB\n"
     ]
    }
   ],
   "source": [
    "df.info()"
   ]
  },
  {
   "cell_type": "code",
   "execution_count": 4,
   "id": "8fe6a6a6-26ca-4888-a688-05f6c8c1d82c",
   "metadata": {},
   "outputs": [
    {
     "data": {
      "text/plain": [
       "CustomerID                0\n",
       "Gender                    0\n",
       "Age                       0\n",
       "Annual Income (k$)        0\n",
       "Spending Score (1-100)    0\n",
       "dtype: int64"
      ]
     },
     "execution_count": 4,
     "metadata": {},
     "output_type": "execute_result"
    }
   ],
   "source": [
    "df.isnull().sum()"
   ]
  },
  {
   "cell_type": "code",
   "execution_count": 5,
   "id": "f33c46f7-e309-4c76-882d-83f9659627d9",
   "metadata": {},
   "outputs": [
    {
     "data": {
      "text/html": [
       "<div>\n",
       "<style scoped>\n",
       "    .dataframe tbody tr th:only-of-type {\n",
       "        vertical-align: middle;\n",
       "    }\n",
       "\n",
       "    .dataframe tbody tr th {\n",
       "        vertical-align: top;\n",
       "    }\n",
       "\n",
       "    .dataframe thead th {\n",
       "        text-align: right;\n",
       "    }\n",
       "</style>\n",
       "<table border=\"1\" class=\"dataframe\">\n",
       "  <thead>\n",
       "    <tr style=\"text-align: right;\">\n",
       "      <th></th>\n",
       "      <th>CustomerID</th>\n",
       "      <th>Gender</th>\n",
       "      <th>Age</th>\n",
       "      <th>Annual Income (k$)</th>\n",
       "      <th>Spending Score (1-100)</th>\n",
       "    </tr>\n",
       "  </thead>\n",
       "  <tbody>\n",
       "    <tr>\n",
       "      <th>0</th>\n",
       "      <td>1</td>\n",
       "      <td>Male</td>\n",
       "      <td>19</td>\n",
       "      <td>15</td>\n",
       "      <td>39</td>\n",
       "    </tr>\n",
       "    <tr>\n",
       "      <th>1</th>\n",
       "      <td>2</td>\n",
       "      <td>Male</td>\n",
       "      <td>21</td>\n",
       "      <td>15</td>\n",
       "      <td>81</td>\n",
       "    </tr>\n",
       "    <tr>\n",
       "      <th>2</th>\n",
       "      <td>3</td>\n",
       "      <td>Female</td>\n",
       "      <td>20</td>\n",
       "      <td>16</td>\n",
       "      <td>6</td>\n",
       "    </tr>\n",
       "    <tr>\n",
       "      <th>3</th>\n",
       "      <td>4</td>\n",
       "      <td>Female</td>\n",
       "      <td>23</td>\n",
       "      <td>16</td>\n",
       "      <td>77</td>\n",
       "    </tr>\n",
       "    <tr>\n",
       "      <th>4</th>\n",
       "      <td>5</td>\n",
       "      <td>Female</td>\n",
       "      <td>31</td>\n",
       "      <td>17</td>\n",
       "      <td>40</td>\n",
       "    </tr>\n",
       "    <tr>\n",
       "      <th>5</th>\n",
       "      <td>6</td>\n",
       "      <td>Female</td>\n",
       "      <td>22</td>\n",
       "      <td>17</td>\n",
       "      <td>76</td>\n",
       "    </tr>\n",
       "    <tr>\n",
       "      <th>6</th>\n",
       "      <td>7</td>\n",
       "      <td>Female</td>\n",
       "      <td>35</td>\n",
       "      <td>18</td>\n",
       "      <td>6</td>\n",
       "    </tr>\n",
       "    <tr>\n",
       "      <th>7</th>\n",
       "      <td>8</td>\n",
       "      <td>Female</td>\n",
       "      <td>23</td>\n",
       "      <td>18</td>\n",
       "      <td>94</td>\n",
       "    </tr>\n",
       "    <tr>\n",
       "      <th>8</th>\n",
       "      <td>9</td>\n",
       "      <td>Male</td>\n",
       "      <td>64</td>\n",
       "      <td>19</td>\n",
       "      <td>3</td>\n",
       "    </tr>\n",
       "    <tr>\n",
       "      <th>9</th>\n",
       "      <td>10</td>\n",
       "      <td>Female</td>\n",
       "      <td>30</td>\n",
       "      <td>19</td>\n",
       "      <td>72</td>\n",
       "    </tr>\n",
       "  </tbody>\n",
       "</table>\n",
       "</div>"
      ],
      "text/plain": [
       "   CustomerID  Gender  Age  Annual Income (k$)  Spending Score (1-100)\n",
       "0           1    Male   19                  15                      39\n",
       "1           2    Male   21                  15                      81\n",
       "2           3  Female   20                  16                       6\n",
       "3           4  Female   23                  16                      77\n",
       "4           5  Female   31                  17                      40\n",
       "5           6  Female   22                  17                      76\n",
       "6           7  Female   35                  18                       6\n",
       "7           8  Female   23                  18                      94\n",
       "8           9    Male   64                  19                       3\n",
       "9          10  Female   30                  19                      72"
      ]
     },
     "execution_count": 5,
     "metadata": {},
     "output_type": "execute_result"
    }
   ],
   "source": [
    "df.head(10)"
   ]
  },
  {
   "cell_type": "markdown",
   "id": "9d5940a4-06f9-46e5-bb89-41f473bd156f",
   "metadata": {},
   "source": [
    "## Cleaning Data"
   ]
  },
  {
   "cell_type": "code",
   "execution_count": 6,
   "id": "74d400a2-d509-4698-b052-cad3d169ad9c",
   "metadata": {},
   "outputs": [
    {
     "data": {
      "text/html": [
       "<div>\n",
       "<style scoped>\n",
       "    .dataframe tbody tr th:only-of-type {\n",
       "        vertical-align: middle;\n",
       "    }\n",
       "\n",
       "    .dataframe tbody tr th {\n",
       "        vertical-align: top;\n",
       "    }\n",
       "\n",
       "    .dataframe thead th {\n",
       "        text-align: right;\n",
       "    }\n",
       "</style>\n",
       "<table border=\"1\" class=\"dataframe\">\n",
       "  <thead>\n",
       "    <tr style=\"text-align: right;\">\n",
       "      <th></th>\n",
       "      <th>Gender</th>\n",
       "      <th>Age</th>\n",
       "      <th>Annual Income</th>\n",
       "      <th>Spending Score</th>\n",
       "    </tr>\n",
       "  </thead>\n",
       "  <tbody>\n",
       "    <tr>\n",
       "      <th>0</th>\n",
       "      <td>Male</td>\n",
       "      <td>19</td>\n",
       "      <td>15</td>\n",
       "      <td>39</td>\n",
       "    </tr>\n",
       "    <tr>\n",
       "      <th>1</th>\n",
       "      <td>Male</td>\n",
       "      <td>21</td>\n",
       "      <td>15</td>\n",
       "      <td>81</td>\n",
       "    </tr>\n",
       "    <tr>\n",
       "      <th>2</th>\n",
       "      <td>Female</td>\n",
       "      <td>20</td>\n",
       "      <td>16</td>\n",
       "      <td>6</td>\n",
       "    </tr>\n",
       "    <tr>\n",
       "      <th>3</th>\n",
       "      <td>Female</td>\n",
       "      <td>23</td>\n",
       "      <td>16</td>\n",
       "      <td>77</td>\n",
       "    </tr>\n",
       "    <tr>\n",
       "      <th>4</th>\n",
       "      <td>Female</td>\n",
       "      <td>31</td>\n",
       "      <td>17</td>\n",
       "      <td>40</td>\n",
       "    </tr>\n",
       "  </tbody>\n",
       "</table>\n",
       "</div>"
      ],
      "text/plain": [
       "   Gender  Age  Annual Income  Spending Score\n",
       "0    Male   19             15              39\n",
       "1    Male   21             15              81\n",
       "2  Female   20             16               6\n",
       "3  Female   23             16              77\n",
       "4  Female   31             17              40"
      ]
     },
     "execution_count": 6,
     "metadata": {},
     "output_type": "execute_result"
    }
   ],
   "source": [
    "df.drop(['CustomerID'],inplace=True, axis=1)\n",
    "df.rename(columns = {'Annual Income (k$)': 'Annual Income', 'Spending Score (1-100)': 'Spending Score'}, inplace = True)\n",
    "df.head(5)"
   ]
  },
  {
   "cell_type": "code",
   "execution_count": 7,
   "id": "dc98e9a4-6f10-45c6-b286-bda6a87f090d",
   "metadata": {},
   "outputs": [],
   "source": [
    "le = LabelEncoder()\n",
    "df['Gender'] = le.fit_transform(df['Gender'])\n",
    "X = df"
   ]
  },
  {
   "cell_type": "code",
   "execution_count": 8,
   "id": "3941d771-e9ac-4d13-aa05-fab9eb981e4d",
   "metadata": {},
   "outputs": [
    {
     "data": {
      "text/html": [
       "<div>\n",
       "<style scoped>\n",
       "    .dataframe tbody tr th:only-of-type {\n",
       "        vertical-align: middle;\n",
       "    }\n",
       "\n",
       "    .dataframe tbody tr th {\n",
       "        vertical-align: top;\n",
       "    }\n",
       "\n",
       "    .dataframe thead th {\n",
       "        text-align: right;\n",
       "    }\n",
       "</style>\n",
       "<table border=\"1\" class=\"dataframe\">\n",
       "  <thead>\n",
       "    <tr style=\"text-align: right;\">\n",
       "      <th></th>\n",
       "      <th>Gender</th>\n",
       "      <th>Age</th>\n",
       "      <th>Annual Income</th>\n",
       "      <th>Spending Score</th>\n",
       "    </tr>\n",
       "  </thead>\n",
       "  <tbody>\n",
       "    <tr>\n",
       "      <th>0</th>\n",
       "      <td>1</td>\n",
       "      <td>19</td>\n",
       "      <td>15</td>\n",
       "      <td>39</td>\n",
       "    </tr>\n",
       "    <tr>\n",
       "      <th>1</th>\n",
       "      <td>1</td>\n",
       "      <td>21</td>\n",
       "      <td>15</td>\n",
       "      <td>81</td>\n",
       "    </tr>\n",
       "    <tr>\n",
       "      <th>2</th>\n",
       "      <td>0</td>\n",
       "      <td>20</td>\n",
       "      <td>16</td>\n",
       "      <td>6</td>\n",
       "    </tr>\n",
       "    <tr>\n",
       "      <th>3</th>\n",
       "      <td>0</td>\n",
       "      <td>23</td>\n",
       "      <td>16</td>\n",
       "      <td>77</td>\n",
       "    </tr>\n",
       "    <tr>\n",
       "      <th>4</th>\n",
       "      <td>0</td>\n",
       "      <td>31</td>\n",
       "      <td>17</td>\n",
       "      <td>40</td>\n",
       "    </tr>\n",
       "  </tbody>\n",
       "</table>\n",
       "</div>"
      ],
      "text/plain": [
       "   Gender  Age  Annual Income  Spending Score\n",
       "0       1   19             15              39\n",
       "1       1   21             15              81\n",
       "2       0   20             16               6\n",
       "3       0   23             16              77\n",
       "4       0   31             17              40"
      ]
     },
     "execution_count": 8,
     "metadata": {},
     "output_type": "execute_result"
    }
   ],
   "source": [
    "X.head(5)"
   ]
  },
  {
   "cell_type": "code",
   "execution_count": 9,
   "id": "6224588a-84f0-4382-bc77-20f0707a978f",
   "metadata": {},
   "outputs": [
    {
     "data": {
      "text/plain": [
       "<AxesSubplot:xlabel='Age', ylabel='Density'>"
      ]
     },
     "execution_count": 9,
     "metadata": {},
     "output_type": "execute_result"
    },
    {
     "data": {
      "image/png": "[encoded data removed]",
      "text/plain": [
       "<Figure size 432x288 with 1 Axes>"
      ]
     },
     "metadata": {
      "needs_background": "light"
     },
     "output_type": "display_data"
    }
   ],
   "source": [
    "sns.distplot(df['Age'])"
   ]
  },
  {
   "cell_type": "code",
   "execution_count": 10,
   "id": "99242f7b-8c2f-47f7-b127-a6fc01a24424",
   "metadata": {},
   "outputs": [
    {
     "data": {
      "text/plain": [
       "<AxesSubplot:xlabel='Spending Score', ylabel='Density'>"
      ]
     },
     "execution_count": 10,
     "metadata": {},
     "output_type": "execute_result"
    },
    {
     "data": {
      "image/png": "[encoded data removed]",
      "text/plain": [
       "<Figure size 432x288 with 1 Axes>"
      ]
     },
     "metadata": {
      "needs_background": "light"
     },
     "output_type": "display_data"
    }
   ],
   "source": [
    "sns.distplot(df['Spending Score'])"
   ]
  },
  {
   "cell_type": "markdown",
   "id": "48f121a7-a1d8-463d-910e-ee92cf95b1b8",
   "metadata": {},
   "source": [
    "## Elbow Method For Selecting Optimal K "
   ]
  },
  {
   "cell_type": "code",
   "execution_count": 11,
   "id": "64088337-0157-4574-a63f-b032eeba1b4b",
   "metadata": {},
   "outputs": [],
   "source": [
    "distortions = []\n",
    "K = range(1,10)\n",
    "for k in K:\n",
    "    kmeanModel = KMeans(n_clusters=k)\n",
    "    kmeanModel.fit(X)\n",
    "    distortions.append(kmeanModel.inertia_)"
   ]
  },
  {
   "cell_type": "code",
   "execution_count": 12,
   "id": "f977d749-e226-4166-a305-3c000c56ca68",
   "metadata": {},
   "outputs": [
    {
     "data": {
      "image/png": "[encoded data removed]",
      "text/plain": [
       "<Figure size 1152x576 with 1 Axes>"
      ]
     },
     "metadata": {
      "needs_background": "light"
     },
     "output_type": "display_data"
    }
   ],
   "source": [
    "plt.figure(figsize=(16,8))\n",
    "plt.plot(K, distortions, 'o-')\n",
    "plt.xlabel('Number of Clusters')\n",
    "plt.ylabel('Distortion')\n",
    "plt.title('The Elbow Method showing the optimal k')\n",
    "plt.show()"
   ]
  },
  {
   "cell_type": "markdown",
   "id": "085a505e-85a9-4e66-9862-dc0ca9a39285",
   "metadata": {},
   "source": [
    "## Silhouette Analysis"
   ]
  },
  {
   "cell_type": "code",
   "execution_count": 13,
   "id": "cfd50fa5-2e71-4398-84c8-43c4bd8f9b5a",
   "metadata": {},
   "outputs": [
    {
     "data": {
      "image/png": "[encoded data removed]",
      "text/plain": [
       "<Figure size 1152x576 with 1 Axes>"
      ]
     },
     "metadata": {
      "needs_background": "light"
     },
     "output_type": "display_data"
    }
   ],
   "source": [
    "range_n_clusters = [2,3,4,5,6,7,8,9]\n",
    "silhouette_avg = []\n",
    "for num_clusters in range_n_clusters:\n",
    " \n",
    "    # initialise kmeans\n",
    "    kmeans = KMeans(n_clusters=num_clusters)\n",
    "    kmeans.fit(X)\n",
    "    cluster_labels = kmeans.labels_\n",
    " \n",
    "    # silhouette score\n",
    "    silhouette_avg.append(silhouette_score(X, cluster_labels))\n",
    "plt.figure(figsize=(16,8))\n",
    "plt.plot(range_n_clusters,silhouette_avg,'o-')\n",
    "plt.xlabel('Values of K') \n",
    "plt.ylabel('Silhouette score') \n",
    "plt.title('Silhouette analysis For Optimal k')\n",
    "plt.show()"
   ]
  },
  {
   "cell_type": "markdown",
   "id": "314581b2-c22c-4948-82dc-5fe2a99b19df",
   "metadata": {},
   "source": [
    "## K = 5 Clustering"
   ]
  },
  {
   "cell_type": "code",
   "execution_count": 14,
   "id": "378c49d7-d68f-4a32-91aa-bce3776cac61",
   "metadata": {},
   "outputs": [],
   "source": [
    "# n=5 clustering\n",
    "km_5 = KMeans(n_clusters=5, init = 'k-means++', n_init=10,max_iter=300, random_state=0)\n",
    "y_km_5 = km_5.fit_predict(X)"
   ]
  },
  {
   "cell_type": "code",
   "execution_count": 15,
   "id": "9bafa351-ff8a-4262-9b6c-3ff06d842e78",
   "metadata": {},
   "outputs": [
    {
     "data": {
      "text/plain": [
       "array([0, 4, 0, 4, 0, 4, 0, 4, 0, 4, 0, 4, 0, 4, 0, 4, 0, 4, 0, 4, 0, 4,\n",
       "       0, 4, 0, 4, 0, 4, 0, 4, 0, 4, 0, 4, 0, 4, 0, 4, 0, 4, 0, 4, 0, 4,\n",
       "       0, 4, 2, 2, 2, 2, 2, 2, 2, 2, 2, 2, 2, 2, 2, 2, 2, 2, 2, 2, 2, 2,\n",
       "       2, 2, 2, 2, 2, 2, 2, 2, 2, 2, 2, 2, 2, 2, 2, 2, 2, 2, 2, 2, 2, 2,\n",
       "       2, 2, 2, 2, 2, 2, 2, 2, 2, 2, 2, 2, 2, 2, 2, 2, 2, 2, 2, 2, 2, 2,\n",
       "       2, 2, 2, 2, 2, 2, 2, 2, 2, 2, 2, 2, 2, 1, 3, 1, 2, 1, 3, 1, 3, 1,\n",
       "       3, 1, 3, 1, 3, 1, 3, 1, 3, 1, 2, 1, 3, 1, 3, 1, 3, 1, 3, 1, 3, 1,\n",
       "       3, 1, 3, 1, 3, 1, 3, 1, 3, 1, 3, 1, 3, 1, 3, 1, 3, 1, 3, 1, 3, 1,\n",
       "       3, 1, 3, 1, 3, 1, 3, 1, 3, 1, 3, 1, 3, 1, 3, 1, 3, 1, 3, 1, 3, 1,\n",
       "       3, 1])"
      ]
     },
     "execution_count": 15,
     "metadata": {},
     "output_type": "execute_result"
    }
   ],
   "source": [
    "km_5.labels_"
   ]
  },
  {
   "cell_type": "code",
   "execution_count": 16,
   "id": "a0f89096-017a-47a3-88ed-4f4ec1b61733",
   "metadata": {},
   "outputs": [
    {
     "data": {
      "text/plain": [
       "(array([0, 1, 2, 3, 4]), array([23, 39, 79, 36, 23], dtype=int64))"
      ]
     },
     "execution_count": 16,
     "metadata": {},
     "output_type": "execute_result"
    }
   ],
   "source": [
    "cluster_labels = np.unique(y_km_5)\n",
    "n_clusters = cluster_labels.shape[0]\n",
    "np.unique(y_km_5,return_counts = True)"
   ]
  },
  {
   "cell_type": "code",
   "execution_count": 17,
   "id": "fc057afc-c7a4-486c-90b1-798d83af7b7f",
   "metadata": {},
   "outputs": [],
   "source": [
    "df['ClusterModel1'] = pd.Series(y_km_5, index=df.index)"
   ]
  },
  {
   "cell_type": "code",
   "execution_count": 18,
   "id": "773c8513-9939-4464-9786-7f554df46745",
   "metadata": {},
   "outputs": [
    {
     "data": {
      "text/html": [
       "<div>\n",
       "<style scoped>\n",
       "    .dataframe tbody tr th:only-of-type {\n",
       "        vertical-align: middle;\n",
       "    }\n",
       "\n",
       "    .dataframe tbody tr th {\n",
       "        vertical-align: top;\n",
       "    }\n",
       "\n",
       "    .dataframe thead th {\n",
       "        text-align: right;\n",
       "    }\n",
       "</style>\n",
       "<table border=\"1\" class=\"dataframe\">\n",
       "  <thead>\n",
       "    <tr style=\"text-align: right;\">\n",
       "      <th></th>\n",
       "      <th>Gender</th>\n",
       "      <th>Age</th>\n",
       "      <th>Annual Income</th>\n",
       "      <th>Spending Score</th>\n",
       "      <th>ClusterModel1</th>\n",
       "    </tr>\n",
       "  </thead>\n",
       "  <tbody>\n",
       "    <tr>\n",
       "      <th>0</th>\n",
       "      <td>1</td>\n",
       "      <td>19</td>\n",
       "      <td>15</td>\n",
       "      <td>39</td>\n",
       "      <td>0</td>\n",
       "    </tr>\n",
       "    <tr>\n",
       "      <th>1</th>\n",
       "      <td>1</td>\n",
       "      <td>21</td>\n",
       "      <td>15</td>\n",
       "      <td>81</td>\n",
       "      <td>4</td>\n",
       "    </tr>\n",
       "    <tr>\n",
       "      <th>2</th>\n",
       "      <td>0</td>\n",
       "      <td>20</td>\n",
       "      <td>16</td>\n",
       "      <td>6</td>\n",
       "      <td>0</td>\n",
       "    </tr>\n",
       "    <tr>\n",
       "      <th>3</th>\n",
       "      <td>0</td>\n",
       "      <td>23</td>\n",
       "      <td>16</td>\n",
       "      <td>77</td>\n",
       "      <td>4</td>\n",
       "    </tr>\n",
       "    <tr>\n",
       "      <th>4</th>\n",
       "      <td>0</td>\n",
       "      <td>31</td>\n",
       "      <td>17</td>\n",
       "      <td>40</td>\n",
       "      <td>0</td>\n",
       "    </tr>\n",
       "  </tbody>\n",
       "</table>\n",
       "</div>"
      ],
      "text/plain": [
       "   Gender  Age  Annual Income  Spending Score  ClusterModel1\n",
       "0       1   19             15              39              0\n",
       "1       1   21             15              81              4\n",
       "2       0   20             16               6              0\n",
       "3       0   23             16              77              4\n",
       "4       0   31             17              40              0"
      ]
     },
     "execution_count": 18,
     "metadata": {},
     "output_type": "execute_result"
    }
   ],
   "source": [
    "df.head()"
   ]
  },
  {
   "cell_type": "markdown",
   "id": "cd9fac5b-378b-4af0-aa3c-845ad71d722e",
   "metadata": {},
   "source": [
    "### Result"
   ]
  },
  {
   "cell_type": "code",
   "execution_count": 19,
   "id": "1ea292fb-787c-40f7-aded-6e7ec9b8339e",
   "metadata": {},
   "outputs": [
    {
     "data": {
      "text/html": [
       "<div>\n",
       "<style scoped>\n",
       "    .dataframe tbody tr th:only-of-type {\n",
       "        vertical-align: middle;\n",
       "    }\n",
       "\n",
       "    .dataframe tbody tr th {\n",
       "        vertical-align: top;\n",
       "    }\n",
       "\n",
       "    .dataframe thead th {\n",
       "        text-align: right;\n",
       "    }\n",
       "</style>\n",
       "<table border=\"1\" class=\"dataframe\">\n",
       "  <thead>\n",
       "    <tr style=\"text-align: right;\">\n",
       "      <th></th>\n",
       "      <th>Gender</th>\n",
       "      <th>Age</th>\n",
       "      <th>Annual Income</th>\n",
       "      <th>Spending Score</th>\n",
       "      <th>ClusterModel1_Count</th>\n",
       "    </tr>\n",
       "    <tr>\n",
       "      <th>ClusterModel1</th>\n",
       "      <th></th>\n",
       "      <th></th>\n",
       "      <th></th>\n",
       "      <th></th>\n",
       "      <th></th>\n",
       "    </tr>\n",
       "  </thead>\n",
       "  <tbody>\n",
       "    <tr>\n",
       "      <th>0</th>\n",
       "      <td>0.0</td>\n",
       "      <td>45.0</td>\n",
       "      <td>26.0</td>\n",
       "      <td>21.0</td>\n",
       "      <td>23</td>\n",
       "    </tr>\n",
       "    <tr>\n",
       "      <th>1</th>\n",
       "      <td>0.0</td>\n",
       "      <td>33.0</td>\n",
       "      <td>87.0</td>\n",
       "      <td>82.0</td>\n",
       "      <td>39</td>\n",
       "    </tr>\n",
       "    <tr>\n",
       "      <th>2</th>\n",
       "      <td>0.0</td>\n",
       "      <td>43.0</td>\n",
       "      <td>55.0</td>\n",
       "      <td>50.0</td>\n",
       "      <td>79</td>\n",
       "    </tr>\n",
       "    <tr>\n",
       "      <th>3</th>\n",
       "      <td>1.0</td>\n",
       "      <td>41.0</td>\n",
       "      <td>88.0</td>\n",
       "      <td>18.0</td>\n",
       "      <td>36</td>\n",
       "    </tr>\n",
       "    <tr>\n",
       "      <th>4</th>\n",
       "      <td>0.0</td>\n",
       "      <td>26.0</td>\n",
       "      <td>26.0</td>\n",
       "      <td>79.0</td>\n",
       "      <td>23</td>\n",
       "    </tr>\n",
       "  </tbody>\n",
       "</table>\n",
       "</div>"
      ],
      "text/plain": [
       "               Gender   Age  Annual Income  Spending Score  \\\n",
       "ClusterModel1                                                \n",
       "0                 0.0  45.0           26.0            21.0   \n",
       "1                 0.0  33.0           87.0            82.0   \n",
       "2                 0.0  43.0           55.0            50.0   \n",
       "3                 1.0  41.0           88.0            18.0   \n",
       "4                 0.0  26.0           26.0            79.0   \n",
       "\n",
       "               ClusterModel1_Count  \n",
       "ClusterModel1                       \n",
       "0                               23  \n",
       "1                               39  \n",
       "2                               79  \n",
       "3                               36  \n",
       "4                               23  "
      ]
     },
     "execution_count": 19,
     "metadata": {},
     "output_type": "execute_result"
    }
   ],
   "source": [
    "df_grp = df[['ClusterModel1','Gender','Age','Annual Income','Spending Score']].groupby('ClusterModel1').mean()\n",
    "df_grp['ClusterModel1_Count'] = np.unique(y_km_5,return_counts = True)[1]\n",
    "df_grp.round()"
   ]
  },
  {
   "cell_type": "markdown",
   "id": "5031a62e-0a6d-4633-b0cb-b6eefabf377b",
   "metadata": {},
   "source": [
    "### Scatter Plot"
   ]
  },
  {
   "cell_type": "code",
   "execution_count": 20,
   "id": "daf23799-050b-44e1-8f99-1eea00ee95b6",
   "metadata": {},
   "outputs": [
    {
     "data": {
      "image/png": "[encoded data removed]",
      "text/plain": [
       "<Figure size 720x432 with 1 Axes>"
      ]
     },
     "metadata": {
      "needs_background": "light"
     },
     "output_type": "display_data"
    }
   ],
   "source": [
    "plt.figure(figsize=(10,6))\n",
    "\n",
    "plt.title(\"Ploting the data into 5 clusters\", fontsize=20, color=\"green\")\n",
    "sns.scatterplot(data=df, x=\"Annual Income\", y=\"Spending Score\", hue=\"ClusterModel1\", s=60, palette=['green','orange','brown','blue','red'])\n",
    "plt.show()"
   ]
  },
  {
   "cell_type": "markdown",
   "id": "d6a80bc0-5696-47f0-8f8a-63048931bde8",
   "metadata": {},
   "source": [
    "## K = 6 Clustering"
   ]
  },
  {
   "cell_type": "code",
   "execution_count": 21,
   "id": "f4298f72-1c2f-4f9c-b1bb-eaac2f955a69",
   "metadata": {},
   "outputs": [],
   "source": [
    "# n=6 clustering\n",
    "km_6 = KMeans(n_clusters=6, init = 'k-means++', n_init=10,max_iter=300, random_state=0)\n",
    "y_km_6 = km_6.fit_predict(X)"
   ]
  },
  {
   "cell_type": "code",
   "execution_count": 22,
   "id": "508e09d7-2139-445d-b5bc-f49283f10900",
   "metadata": {},
   "outputs": [
    {
     "data": {
      "text/plain": [
       "(array([0, 1, 2, 3, 4, 5]), array([35, 39, 44, 22, 38, 22], dtype=int64))"
      ]
     },
     "execution_count": 22,
     "metadata": {},
     "output_type": "execute_result"
    }
   ],
   "source": [
    "cluster_labels6 = np.unique(y_km_6)\n",
    "n_clusters6 = cluster_labels6.shape[0]\n",
    "np.unique(y_km_6,return_counts = True)"
   ]
  },
  {
   "cell_type": "code",
   "execution_count": 23,
   "id": "3276dacd-e13b-4514-b251-b4fe3517e34f",
   "metadata": {},
   "outputs": [],
   "source": [
    "df['ClusterModel2'] = pd.Series(y_km_6, index=df.index)"
   ]
  },
  {
   "cell_type": "code",
   "execution_count": 24,
   "id": "3a0a6b08-de52-4450-822d-ce44298f6c46",
   "metadata": {},
   "outputs": [
    {
     "data": {
      "text/html": [
       "<div>\n",
       "<style scoped>\n",
       "    .dataframe tbody tr th:only-of-type {\n",
       "        vertical-align: middle;\n",
       "    }\n",
       "\n",
       "    .dataframe tbody tr th {\n",
       "        vertical-align: top;\n",
       "    }\n",
       "\n",
       "    .dataframe thead th {\n",
       "        text-align: right;\n",
       "    }\n",
       "</style>\n",
       "<table border=\"1\" class=\"dataframe\">\n",
       "  <thead>\n",
       "    <tr style=\"text-align: right;\">\n",
       "      <th></th>\n",
       "      <th>Gender</th>\n",
       "      <th>Age</th>\n",
       "      <th>Annual Income</th>\n",
       "      <th>Spending Score</th>\n",
       "      <th>ClusterModel1</th>\n",
       "      <th>ClusterModel2</th>\n",
       "    </tr>\n",
       "  </thead>\n",
       "  <tbody>\n",
       "    <tr>\n",
       "      <th>0</th>\n",
       "      <td>1</td>\n",
       "      <td>19</td>\n",
       "      <td>15</td>\n",
       "      <td>39</td>\n",
       "      <td>0</td>\n",
       "      <td>5</td>\n",
       "    </tr>\n",
       "    <tr>\n",
       "      <th>1</th>\n",
       "      <td>1</td>\n",
       "      <td>21</td>\n",
       "      <td>15</td>\n",
       "      <td>81</td>\n",
       "      <td>4</td>\n",
       "      <td>3</td>\n",
       "    </tr>\n",
       "    <tr>\n",
       "      <th>2</th>\n",
       "      <td>0</td>\n",
       "      <td>20</td>\n",
       "      <td>16</td>\n",
       "      <td>6</td>\n",
       "      <td>0</td>\n",
       "      <td>5</td>\n",
       "    </tr>\n",
       "    <tr>\n",
       "      <th>3</th>\n",
       "      <td>0</td>\n",
       "      <td>23</td>\n",
       "      <td>16</td>\n",
       "      <td>77</td>\n",
       "      <td>4</td>\n",
       "      <td>3</td>\n",
       "    </tr>\n",
       "    <tr>\n",
       "      <th>4</th>\n",
       "      <td>0</td>\n",
       "      <td>31</td>\n",
       "      <td>17</td>\n",
       "      <td>40</td>\n",
       "      <td>0</td>\n",
       "      <td>5</td>\n",
       "    </tr>\n",
       "  </tbody>\n",
       "</table>\n",
       "</div>"
      ],
      "text/plain": [
       "   Gender  Age  Annual Income  Spending Score  ClusterModel1  ClusterModel2\n",
       "0       1   19             15              39              0              5\n",
       "1       1   21             15              81              4              3\n",
       "2       0   20             16               6              0              5\n",
       "3       0   23             16              77              4              3\n",
       "4       0   31             17              40              0              5"
      ]
     },
     "execution_count": 24,
     "metadata": {},
     "output_type": "execute_result"
    }
   ],
   "source": [
    "df.head()"
   ]
  },
  {
   "cell_type": "markdown",
   "id": "feddfe32-75dc-4f48-8a55-3762dd62d4eb",
   "metadata": {},
   "source": [
    "### Result"
   ]
  },
  {
   "cell_type": "code",
   "execution_count": 25,
   "id": "f5863e8e-f79d-412b-9498-4055fc67a42b",
   "metadata": {},
   "outputs": [
    {
     "data": {
      "text/html": [
       "<div>\n",
       "<style scoped>\n",
       "    .dataframe tbody tr th:only-of-type {\n",
       "        vertical-align: middle;\n",
       "    }\n",
       "\n",
       "    .dataframe tbody tr th {\n",
       "        vertical-align: top;\n",
       "    }\n",
       "\n",
       "    .dataframe thead th {\n",
       "        text-align: right;\n",
       "    }\n",
       "</style>\n",
       "<table border=\"1\" class=\"dataframe\">\n",
       "  <thead>\n",
       "    <tr style=\"text-align: right;\">\n",
       "      <th></th>\n",
       "      <th>Gender</th>\n",
       "      <th>Age</th>\n",
       "      <th>Annual Income</th>\n",
       "      <th>Spending Score</th>\n",
       "      <th>ClusterModel2_Count</th>\n",
       "    </tr>\n",
       "    <tr>\n",
       "      <th>ClusterModel2</th>\n",
       "      <th></th>\n",
       "      <th></th>\n",
       "      <th></th>\n",
       "      <th></th>\n",
       "      <th></th>\n",
       "    </tr>\n",
       "  </thead>\n",
       "  <tbody>\n",
       "    <tr>\n",
       "      <th>0</th>\n",
       "      <td>1.0</td>\n",
       "      <td>42.0</td>\n",
       "      <td>88.0</td>\n",
       "      <td>17.0</td>\n",
       "      <td>35</td>\n",
       "    </tr>\n",
       "    <tr>\n",
       "      <th>1</th>\n",
       "      <td>0.0</td>\n",
       "      <td>33.0</td>\n",
       "      <td>87.0</td>\n",
       "      <td>82.0</td>\n",
       "      <td>39</td>\n",
       "    </tr>\n",
       "    <tr>\n",
       "      <th>2</th>\n",
       "      <td>0.0</td>\n",
       "      <td>56.0</td>\n",
       "      <td>54.0</td>\n",
       "      <td>49.0</td>\n",
       "      <td>44</td>\n",
       "    </tr>\n",
       "    <tr>\n",
       "      <th>3</th>\n",
       "      <td>0.0</td>\n",
       "      <td>25.0</td>\n",
       "      <td>26.0</td>\n",
       "      <td>79.0</td>\n",
       "      <td>22</td>\n",
       "    </tr>\n",
       "    <tr>\n",
       "      <th>4</th>\n",
       "      <td>0.0</td>\n",
       "      <td>27.0</td>\n",
       "      <td>57.0</td>\n",
       "      <td>49.0</td>\n",
       "      <td>38</td>\n",
       "    </tr>\n",
       "    <tr>\n",
       "      <th>5</th>\n",
       "      <td>0.0</td>\n",
       "      <td>44.0</td>\n",
       "      <td>26.0</td>\n",
       "      <td>20.0</td>\n",
       "      <td>22</td>\n",
       "    </tr>\n",
       "  </tbody>\n",
       "</table>\n",
       "</div>"
      ],
      "text/plain": [
       "               Gender   Age  Annual Income  Spending Score  \\\n",
       "ClusterModel2                                                \n",
       "0                 1.0  42.0           88.0            17.0   \n",
       "1                 0.0  33.0           87.0            82.0   \n",
       "2                 0.0  56.0           54.0            49.0   \n",
       "3                 0.0  25.0           26.0            79.0   \n",
       "4                 0.0  27.0           57.0            49.0   \n",
       "5                 0.0  44.0           26.0            20.0   \n",
       "\n",
       "               ClusterModel2_Count  \n",
       "ClusterModel2                       \n",
       "0                               35  \n",
       "1                               39  \n",
       "2                               44  \n",
       "3                               22  \n",
       "4                               38  \n",
       "5                               22  "
      ]
     },
     "execution_count": 25,
     "metadata": {},
     "output_type": "execute_result"
    }
   ],
   "source": [
    "df_grp = df[['ClusterModel2','Gender','Age','Annual Income','Spending Score']].groupby('ClusterModel2').mean()\n",
    "df_grp['ClusterModel2_Count'] = np.unique(y_km_6,return_counts = True)[1]\n",
    "df_grp.round()"
   ]
  },
  {
   "cell_type": "markdown",
   "id": "c74f0ac0-3b83-4444-a8e8-cc4d0483eccf",
   "metadata": {},
   "source": [
    "### Scatter Plot"
   ]
  },
  {
   "cell_type": "code",
   "execution_count": 26,
   "id": "5c592508-24a9-4b0a-aa73-d1c686f20d5d",
   "metadata": {},
   "outputs": [
    {
     "data": {
      "image/png": "[encoded data removed]",
      "text/plain": [
       "<Figure size 720x432 with 1 Axes>"
      ]
     },
     "metadata": {
      "needs_background": "light"
     },
     "output_type": "display_data"
    }
   ],
   "source": [
    "plt.figure(figsize=(10,6))\n",
    "\n",
    "plt.title(\"Ploting the data into 6 clusters\", fontsize=20, color=\"green\")\n",
    "sns.scatterplot(data=df, x=\"Annual Income\", y=\"Spending Score\", hue=\"ClusterModel2\", s=60, palette=['green','orange','brown','blue','red','black'])\n",
    "plt.show()"
   ]
  },
  {
   "cell_type": "markdown",
   "id": "0778004d-7286-45ff-8d65-264c6cb9bd94",
   "metadata": {},
   "source": [
    "# Predict Spending Score"
   ]
  },
  {
   "cell_type": "code",
   "execution_count": 27,
   "id": "34ef9c90-cf89-465c-8bea-81b7dc4de45e",
   "metadata": {},
   "outputs": [],
   "source": [
    "from sklearn.preprocessing import RobustScaler, MinMaxScaler"
   ]
  },
  {
   "cell_type": "code",
   "execution_count": 28,
   "id": "bfd5e24e-0e5c-43b9-afbf-cc739df91b8e",
   "metadata": {},
   "outputs": [],
   "source": [
    "from sklearn.model_selection import train_test_split"
   ]
  },
  {
   "cell_type": "code",
   "execution_count": 29,
   "id": "7b466202-df8e-455e-a3ce-4d93548edac0",
   "metadata": {},
   "outputs": [],
   "source": [
    "X, y = df.drop(['Spending Score','ClusterModel2'], axis=1), df['Spending Score']"
   ]
  },
  {
   "cell_type": "code",
   "execution_count": 30,
   "id": "451f265c-5b1f-4e58-8387-dc92e0522b59",
   "metadata": {},
   "outputs": [],
   "source": [
    "robust = RobustScaler()\n",
    "minmax = MinMaxScaler()\n",
    "\n",
    "for col in X.columns:\n",
    "  X[col] = robust.fit_transform(X[col].values.reshape(-1,1))\n",
    "  X[col] = minmax.fit_transform(X[col].values.reshape(-1,1))"
   ]
  },
  {
   "cell_type": "code",
   "execution_count": 31,
   "id": "cad88adc-c79e-4fbe-88b0-64b14d7c02b6",
   "metadata": {},
   "outputs": [],
   "source": [
    "y = robust.fit_transform(y.values.reshape(-1,1))\n",
    "y = minmax.fit_transform(y.reshape(-1,1))"
   ]
  },
  {
   "cell_type": "code",
   "execution_count": 32,
   "id": "f8f12856-d72e-4447-b1d6-b0ff3fc09f2b",
   "metadata": {},
   "outputs": [],
   "source": [
    "x_train, x_test, y_train, y_test = train_test_split(X, y, test_size=0.2, random_state=56)"
   ]
  },
  {
   "cell_type": "code",
   "execution_count": 33,
   "id": "41a641ab-a9a5-4d1f-8d79-37450d0864e6",
   "metadata": {},
   "outputs": [],
   "source": [
    "x_train_, x_val, y_train_, y_val = train_test_split(x_train, y_train, test_size=0.2, random_state=56)"
   ]
  },
  {
   "cell_type": "markdown",
   "id": "fd26b286-c050-4641-8aa1-1dd7915bfa5c",
   "metadata": {},
   "source": [
    "## Selecting Optimal Model"
   ]
  },
  {
   "cell_type": "code",
   "execution_count": 34,
   "id": "c5aec233-e31c-4a72-94c2-31c7ccee8916",
   "metadata": {},
   "outputs": [],
   "source": [
    "from sklearn.ensemble import ExtraTreesRegressor, GradientBoostingRegressor, RandomForestRegressor, AdaBoostRegressor\n",
    "from sklearn.tree import DecisionTreeRegressor, ExtraTreeRegressor\n",
    "from sklearn.neighbors import KNeighborsRegressor"
   ]
  },
  {
   "cell_type": "code",
   "execution_count": 35,
   "id": "c561987b-7d9d-4cf8-957b-e89a5ebe0cff",
   "metadata": {},
   "outputs": [],
   "source": [
    "from sklearn.metrics import mean_squared_error, r2_score"
   ]
  },
  {
   "cell_type": "code",
   "execution_count": 36,
   "id": "131b95e1-dd0d-4163-9a64-23d9f7f03199",
   "metadata": {},
   "outputs": [],
   "source": [
    "def model_selection(x_train_, x_val, y_train_, y_val, model):\n",
    "  model = model()\n",
    "  model.fit(x_train_, y_train_.ravel())\n",
    "\n",
    "  pred = model.predict(x_val)\n",
    "\n",
    "  acc = r2_score(y_val, pred)\n",
    "  error = np.sqrt(mean_squared_error(y_val, pred))\n",
    "  train_score = model.score(x_train_, y_train_)\n",
    "  val_score = model.score(x_val, y_val)\n",
    "\n",
    "  print('Acc :', acc*100)\n",
    "  print('\\n')\n",
    "  print('Error:', error)\n",
    "  print('\\n')\n",
    "  print('Train Score:', train_score*100)\n",
    "  print('\\n')\n",
    "  print('Val Score:', val_score*100)\n",
    "  print('\\n')\n",
    "  print('Is overfitting:', True if train_score>val_score else False)\n",
    "  print('\\n')\n",
    "  print('Overfitting by:',train_score*100-val_score*100)"
   ]
  },
  {
   "cell_type": "markdown",
   "id": "128e73d4-ddcf-4cd8-b75a-1eb1ef0098dc",
   "metadata": {},
   "source": [
    "### Extra Trees Regressor"
   ]
  },
  {
   "cell_type": "code",
   "execution_count": 37,
   "id": "f3bcb815-8de5-4fa4-ab85-99413cec7d63",
   "metadata": {},
   "outputs": [
    {
     "name": "stdout",
     "output_type": "stream",
     "text": [
      "Acc : 83.39289835632925\n",
      "\n",
      "\n",
      "Error: 0.10791311216156847\n",
      "\n",
      "\n",
      "Train Score: 99.98592200526957\n",
      "\n",
      "\n",
      "Val Score: 83.39289835632925\n",
      "\n",
      "\n",
      "Is overfitting: True\n",
      "\n",
      "\n",
      "Overfitting by: 16.593023648940317\n"
     ]
    }
   ],
   "source": [
    "extratrees = model_selection(x_train_, x_val, y_train_, y_val, ExtraTreesRegressor)\n",
    "extratrees"
   ]
  },
  {
   "cell_type": "markdown",
   "id": "a4937a16-c170-4a02-ae2a-5d1394036e45",
   "metadata": {},
   "source": [
    "### Gradient Boosting Regressor"
   ]
  },
  {
   "cell_type": "code",
   "execution_count": 38,
   "id": "9ef080b3-29d4-431d-b58e-3d8a637207b3",
   "metadata": {},
   "outputs": [
    {
     "name": "stdout",
     "output_type": "stream",
     "text": [
      "Acc : 86.0792163135323\n",
      "\n",
      "\n",
      "Error: 0.0988004990400539\n",
      "\n",
      "\n",
      "Train Score: 97.23953444797547\n",
      "\n",
      "\n",
      "Val Score: 86.0792163135323\n",
      "\n",
      "\n",
      "Is overfitting: True\n",
      "\n",
      "\n",
      "Overfitting by: 11.160318134443173\n"
     ]
    }
   ],
   "source": [
    "gradient = model_selection(x_train_, x_val, y_train_, y_val, GradientBoostingRegressor)\n",
    "gradient"
   ]
  },
  {
   "cell_type": "markdown",
   "id": "aa6be0b9-6ea2-4a32-9ced-40bf97fc5b3e",
   "metadata": {},
   "source": [
    "### Random Forest Regressor"
   ]
  },
  {
   "cell_type": "code",
   "execution_count": 39,
   "id": "8c0549cc-b459-4f67-8885-49dd338af0a1",
   "metadata": {},
   "outputs": [
    {
     "name": "stdout",
     "output_type": "stream",
     "text": [
      "Acc : 88.42589290159486\n",
      "\n",
      "\n",
      "Error: 0.09008885018931363\n",
      "\n",
      "\n",
      "Train Score: 97.57004503286552\n",
      "\n",
      "\n",
      "Val Score: 88.42589290159486\n",
      "\n",
      "\n",
      "Is overfitting: True\n",
      "\n",
      "\n",
      "Overfitting by: 9.144152131270658\n"
     ]
    }
   ],
   "source": [
    "forest = model_selection(x_train_, x_val, y_train_, y_val, RandomForestRegressor)\n",
    "forest"
   ]
  },
  {
   "cell_type": "markdown",
   "id": "69e3ee49-ae20-4311-aa12-25807efff85c",
   "metadata": {},
   "source": [
    "### Ada Boost Regressor"
   ]
  },
  {
   "cell_type": "code",
   "execution_count": 40,
   "id": "73c02745-92c8-4ebd-bcde-870865dbccab",
   "metadata": {},
   "outputs": [
    {
     "name": "stdout",
     "output_type": "stream",
     "text": [
      "Acc : 87.88805263353862\n",
      "\n",
      "\n",
      "Error: 0.0921582635418647\n",
      "\n",
      "\n",
      "Train Score: 91.27172107053897\n",
      "\n",
      "\n",
      "Val Score: 87.88805263353862\n",
      "\n",
      "\n",
      "Is overfitting: True\n",
      "\n",
      "\n",
      "Overfitting by: 3.3836684370003525\n"
     ]
    }
   ],
   "source": [
    "ada = model_selection(x_train_, x_val, y_train_, y_val, AdaBoostRegressor)\n",
    "ada"
   ]
  },
  {
   "cell_type": "markdown",
   "id": "b74ee4f4-ca23-49bf-81cb-5dd71ff5a26b",
   "metadata": {},
   "source": [
    "### Decision Tree Regressor"
   ]
  },
  {
   "cell_type": "code",
   "execution_count": 41,
   "id": "78e1f9f2-26e6-45d1-842a-e8f0dd3832a2",
   "metadata": {},
   "outputs": [
    {
     "name": "stdout",
     "output_type": "stream",
     "text": [
      "Acc : 85.12793370213815\n",
      "\n",
      "\n",
      "Error: 0.10212050459820457\n",
      "\n",
      "\n",
      "Train Score: 99.98592200526957\n",
      "\n",
      "\n",
      "Val Score: 85.12793370213815\n",
      "\n",
      "\n",
      "Is overfitting: True\n",
      "\n",
      "\n",
      "Overfitting by: 14.857988303131421\n"
     ]
    }
   ],
   "source": [
    "Dtree = model_selection(x_train_, x_val, y_train_, y_val, DecisionTreeRegressor)\n",
    "Dtree"
   ]
  },
  {
   "cell_type": "markdown",
   "id": "1eee4b7c-a056-4d05-8e89-ad66e6367ba1",
   "metadata": {},
   "source": [
    "### Extra Tree Regressor"
   ]
  },
  {
   "cell_type": "code",
   "execution_count": 42,
   "id": "a98d195f-3ec6-4908-9389-d1134b870a54",
   "metadata": {},
   "outputs": [
    {
     "name": "stdout",
     "output_type": "stream",
     "text": [
      "Acc : 73.58758147662101\n",
      "\n",
      "\n",
      "Error: 0.13609161906478714\n",
      "\n",
      "\n",
      "Train Score: 99.98592200526957\n",
      "\n",
      "\n",
      "Val Score: 73.58758147662101\n",
      "\n",
      "\n",
      "Is overfitting: True\n",
      "\n",
      "\n",
      "Overfitting by: 26.39834052864856\n"
     ]
    }
   ],
   "source": [
    "extratree = model_selection(x_train_, x_val, y_train_, y_val, ExtraTreeRegressor)\n",
    "extratree"
   ]
  },
  {
   "cell_type": "markdown",
   "id": "283306a7-776a-476b-8f74-ffe04b26e93b",
   "metadata": {},
   "source": [
    "### K Neighbors Regressor"
   ]
  },
  {
   "cell_type": "code",
   "execution_count": 43,
   "id": "708f0afb-fce7-4d97-9380-73c599c64d5b",
   "metadata": {},
   "outputs": [
    {
     "name": "stdout",
     "output_type": "stream",
     "text": [
      "Acc : 87.35340733597732\n",
      "\n",
      "\n",
      "Error: 0.09417032319647617\n",
      "\n",
      "\n",
      "Train Score: 89.32158196186535\n",
      "\n",
      "\n",
      "Val Score: 87.35340733597732\n",
      "\n",
      "\n",
      "Is overfitting: True\n",
      "\n",
      "\n",
      "Overfitting by: 1.9681746258880253\n"
     ]
    }
   ],
   "source": [
    "neighbour = model_selection(x_train_, x_val, y_train_, y_val, KNeighborsRegressor)\n",
    "neighbour"
   ]
  },
  {
   "cell_type": "markdown",
   "id": "572a281a-5258-452f-a1ca-8f33f725a180",
   "metadata": {},
   "source": [
    "## Selected Model"
   ]
  },
  {
   "cell_type": "code",
   "execution_count": 44,
   "id": "15e022c4-26b0-4cb0-b2bd-9f1f78954c3b",
   "metadata": {},
   "outputs": [
    {
     "data": {
      "text/plain": [
       "KNeighborsRegressor()"
      ]
     },
     "execution_count": 44,
     "metadata": {},
     "output_type": "execute_result"
    }
   ],
   "source": [
    "model = KNeighborsRegressor()\n",
    "model.fit(x_train, y_train.ravel())"
   ]
  },
  {
   "cell_type": "code",
   "execution_count": 45,
   "id": "8f577cb4-d9db-4f72-a869-9d5df680d76d",
   "metadata": {},
   "outputs": [
    {
     "data": {
      "text/plain": [
       "array([46.53061224, 11.02040816, 50.81632653, 83.67346939, 21.02040816,\n",
       "       85.91836735, 23.46938776, 78.36734694, 25.30612245, 77.55102041,\n",
       "       49.59183673, 51.2244898 , 51.42857143, 17.95918367, 52.04081633,\n",
       "       41.02040816, 51.83673469, 11.42857143, 50.        , 49.79591837,\n",
       "       49.79591837, 85.51020408, 23.67346939, 49.3877551 , 76.93877551,\n",
       "       46.93877551, 52.24489796, 48.97959184, 17.95918367, 88.97959184,\n",
       "       52.24489796, 23.46938776, 81.2244898 , 46.93877551, 85.51020408,\n",
       "        6.73469388, 82.44897959, 50.6122449 , 44.28571429, 82.04081633])"
      ]
     },
     "execution_count": 45,
     "metadata": {},
     "output_type": "execute_result"
    }
   ],
   "source": [
    "pred = model.predict(x_test)\n",
    "pred*100"
   ]
  },
  {
   "cell_type": "markdown",
   "id": "f5263606-49a1-48eb-b7a6-e0af48a16628",
   "metadata": {},
   "source": [
    "### Result"
   ]
  },
  {
   "cell_type": "code",
   "execution_count": 46,
   "id": "d39e8e36-dd8d-4941-bd3b-961870b6a236",
   "metadata": {},
   "outputs": [
    {
     "data": {
      "text/plain": [
       "78.75964322496648"
      ]
     },
     "execution_count": 46,
     "metadata": {},
     "output_type": "execute_result"
    }
   ],
   "source": [
    "accuracy = r2_score(y_test, pred)\n",
    "accuracy*100"
   ]
  },
  {
   "cell_type": "code",
   "execution_count": 47,
   "id": "25c452c4-d7d5-4e89-9a0f-338603672dc5",
   "metadata": {},
   "outputs": [
    {
     "data": {
      "text/plain": [
       "0.1066826852646528"
      ]
     },
     "execution_count": 47,
     "metadata": {},
     "output_type": "execute_result"
    }
   ],
   "source": [
    "error = np.sqrt(mean_squared_error(y_test, pred))\n",
    "error"
   ]
  },
  {
   "cell_type": "code",
   "execution_count": 48,
   "id": "8d8fc533-2c93-4f44-9df9-f159e76a638e",
   "metadata": {},
   "outputs": [
    {
     "data": {
      "text/plain": [
       "12.423430817623142"
      ]
     },
     "execution_count": 48,
     "metadata": {},
     "output_type": "execute_result"
    }
   ],
   "source": [
    "overfit= model.score(x_train, y_train)*100 - model.score(x_test, y_test)*100\n",
    "overfit"
   ]
  },
  {
   "cell_type": "code",
   "execution_count": null,
   "id": "2dd42fa5-cde3-41f4-9006-74632d8d56d2",
   "metadata": {},
   "outputs": [],
   "source": []
  }
 ],
 "metadata": {
  "kernelspec": {
   "display_name": "Python 3 (ipykernel)",
   "language": "python",
   "name": "python3"
  },
  "language_info": {
   "codemirror_mode": {
    "name": "ipython",
    "version": 3
   },
   "file_extension": ".py",
   "mimetype": "text/x-python",
   "name": "python",
   "nbconvert_exporter": "python",
   "pygments_lexer": "ipython3",
   "version": "3.10.2"
  }
 },
 "nbformat": 4,
 "nbformat_minor": 5
}
